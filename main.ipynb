{
 "cells": [
  {
   "cell_type": "code",
   "execution_count": 1,
   "metadata": {
    "collapsed": true
   },
   "outputs": [
    {
     "data": {
      "text/plain": "       Unnamed: 0                track_id            artists  \\\n42730       42730  5qRojknZn6ap1xVqOTBaEK            Disfear   \n4960         4960  3SneyeUpTaZfmdT2LeEAhk  Project AER;v i v   \n6714         6714  4OufvzIUm5RUveuvVVytNn           Wormwood   \n\n                  album_name         track_name  popularity  duration_ms  \\\n42730     Everyday Slaughter   A Race For Power          13       134973   \n4960   How Are You? I'm Okay         Safe Space          11       173499   \n6714                 Arkivet  My Northern Heart          17       385714   \n\n       explicit  danceability  energy  ...  loudness  mode  speechiness  \\\n42730     False         0.267   0.988  ...    -6.581     1       0.1070   \n4960      False         0.727   0.210  ...   -16.490     1       0.0448   \n6714      False         0.308   0.901  ...    -5.850     0       0.0607   \n\n       acousticness  instrumentalness  liveness  valence    tempo  \\\n42730      0.000002          0.906000    0.0328   0.1460  134.718   \n4960       0.888000          0.844000    0.1100   0.0403  124.068   \n6714       0.000334          0.000059    0.0842   0.1310  196.059   \n\n       time_signature  track_genre  \n42730               4    grindcore  \n4960                4      ambient  \n6714                4  black-metal  \n\n[3 rows x 21 columns]",
      "text/html": "<div>\n<style scoped>\n    .dataframe tbody tr th:only-of-type {\n        vertical-align: middle;\n    }\n\n    .dataframe tbody tr th {\n        vertical-align: top;\n    }\n\n    .dataframe thead th {\n        text-align: right;\n    }\n</style>\n<table border=\"1\" class=\"dataframe\">\n  <thead>\n    <tr style=\"text-align: right;\">\n      <th></th>\n      <th>Unnamed: 0</th>\n      <th>track_id</th>\n      <th>artists</th>\n      <th>album_name</th>\n      <th>track_name</th>\n      <th>popularity</th>\n      <th>duration_ms</th>\n      <th>explicit</th>\n      <th>danceability</th>\n      <th>energy</th>\n      <th>...</th>\n      <th>loudness</th>\n      <th>mode</th>\n      <th>speechiness</th>\n      <th>acousticness</th>\n      <th>instrumentalness</th>\n      <th>liveness</th>\n      <th>valence</th>\n      <th>tempo</th>\n      <th>time_signature</th>\n      <th>track_genre</th>\n    </tr>\n  </thead>\n  <tbody>\n    <tr>\n      <th>42730</th>\n      <td>42730</td>\n      <td>5qRojknZn6ap1xVqOTBaEK</td>\n      <td>Disfear</td>\n      <td>Everyday Slaughter</td>\n      <td>A Race For Power</td>\n      <td>13</td>\n      <td>134973</td>\n      <td>False</td>\n      <td>0.267</td>\n      <td>0.988</td>\n      <td>...</td>\n      <td>-6.581</td>\n      <td>1</td>\n      <td>0.1070</td>\n      <td>0.000002</td>\n      <td>0.906000</td>\n      <td>0.0328</td>\n      <td>0.1460</td>\n      <td>134.718</td>\n      <td>4</td>\n      <td>grindcore</td>\n    </tr>\n    <tr>\n      <th>4960</th>\n      <td>4960</td>\n      <td>3SneyeUpTaZfmdT2LeEAhk</td>\n      <td>Project AER;v i v</td>\n      <td>How Are You? I'm Okay</td>\n      <td>Safe Space</td>\n      <td>11</td>\n      <td>173499</td>\n      <td>False</td>\n      <td>0.727</td>\n      <td>0.210</td>\n      <td>...</td>\n      <td>-16.490</td>\n      <td>1</td>\n      <td>0.0448</td>\n      <td>0.888000</td>\n      <td>0.844000</td>\n      <td>0.1100</td>\n      <td>0.0403</td>\n      <td>124.068</td>\n      <td>4</td>\n      <td>ambient</td>\n    </tr>\n    <tr>\n      <th>6714</th>\n      <td>6714</td>\n      <td>4OufvzIUm5RUveuvVVytNn</td>\n      <td>Wormwood</td>\n      <td>Arkivet</td>\n      <td>My Northern Heart</td>\n      <td>17</td>\n      <td>385714</td>\n      <td>False</td>\n      <td>0.308</td>\n      <td>0.901</td>\n      <td>...</td>\n      <td>-5.850</td>\n      <td>0</td>\n      <td>0.0607</td>\n      <td>0.000334</td>\n      <td>0.000059</td>\n      <td>0.0842</td>\n      <td>0.1310</td>\n      <td>196.059</td>\n      <td>4</td>\n      <td>black-metal</td>\n    </tr>\n  </tbody>\n</table>\n<p>3 rows × 21 columns</p>\n</div>"
     },
     "execution_count": 1,
     "metadata": {},
     "output_type": "execute_result"
    }
   ],
   "source": [
    "import pandas as pd\n",
    "\n",
    "import seaborn as sns\n",
    "import seaborn.objects as so\n",
    "\n",
    "dataFrm = pd.read_csv(\"./res/dataset.csv\", na_values=['Not Provided'])\n",
    "dataFrm.sample(3)"
   ]
  },
  {
   "cell_type": "code",
   "execution_count": null,
   "outputs": [],
   "source": [],
   "metadata": {
    "collapsed": false
   }
  }
 ],
 "metadata": {
  "kernelspec": {
   "display_name": "Python 3",
   "language": "python",
   "name": "python3"
  },
  "language_info": {
   "codemirror_mode": {
    "name": "ipython",
    "version": 2
   },
   "file_extension": ".py",
   "mimetype": "text/x-python",
   "name": "python",
   "nbconvert_exporter": "python",
   "pygments_lexer": "ipython2",
   "version": "2.7.6"
  }
 },
 "nbformat": 4,
 "nbformat_minor": 0
}
